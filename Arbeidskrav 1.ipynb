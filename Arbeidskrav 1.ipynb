{
 "cells": [
  {
   "cell_type": "code",
   "execution_count": 32,
   "id": "f51a3ee0-8794-45c8-b763-469869e028db",
   "metadata": {},
   "outputs": [
    {
     "name": "stdout",
     "output_type": "stream",
     "text": [
      "Årlig kostnad for elbil: 13059 kr\n",
      "Årlig kostnad for bensinbil: 23559 kr\n",
      "Årlig kostnadsdifferansen mellom el- og bensinbil: 10500 kr\n"
     ]
    }
   ],
   "source": [
    "# ------------------------------------------------------------\n",
    "# Beregn og sammenlign arlige kostnader for elbil vs bensinbil\n",
    "# Antakelser fra oppgaven:\n",
    "# 10 000 km/ar\n",
    "# Forsikring: elbil 5000 kr/ar, bensinbil 7500 kr/ar\n",
    "# Trafikkforsikringsavgift (tfa): 8,38 kr/dag\n",
    "# Drivstoff: elbil 0,4 kr/km (0.2 kWh/km * 2.00 kr/kWh), bensinbil 1,0 kr/km\n",
    "# Bomavgift: elbil 0,1 kr/km, bensinbil 0,3 kr/km\n",
    "# ------------------------------------------------------------\n",
    "\n",
    "km_per_ar = 10000 \n",
    "forsikr_el = 5000  \n",
    "forsikr_bensin = 7500  \n",
    "tfa_per_dag = 8.38 \n",
    "dager_per_ar = 365\n",
    "\n",
    "drivstoff_el_kr_per_km = 0.4   # kr/km\n",
    "drivstoff_bensin_kr_per_km = 1 # kr/km\n",
    "bom_el_kr_per_km = 0.1         # kr/km\n",
    "bom_bensin_kr_per_km = 0.3     # kr/km\n",
    "\n",
    "tfa_per_ar = tfa_per_dag * dager_per_ar\n",
    "\n",
    "# arlig kostnader (kr)\n",
    "arlig_kost_el = (\n",
    "    forsikr_el\n",
    "    + tfa_per_ar\n",
    "    + km_per_ar * (drivstoff_el_kr_per_km + bom_el_kr_per_km)\n",
    ")\n",
    "\n",
    "arlig_kost_bensin = (\n",
    "    forsikr_bensin\n",
    "    + tfa_per_ar\n",
    "    + km_per_ar * (drivstoff_bensin_kr_per_km + bom_bensin_kr_per_km)\n",
    ")\n",
    "\n",
    "kostnadsdiff = arlig_kost_bensin - arlig_kost_el\n",
    "\n",
    "print (f\"Årlig kostnad for elbil: {arlig_kost_el:.0f} kr\")\n",
    "print (f\"Årlig kostnad for bensinbil: {arlig_kost_bensin:.0f} kr\")\n",
    "print (f\"Årlig kostnadsdifferansen mellom el- og bensinbil: {kostnadsdiff:.0f} kr\")"
   ]
  },
  {
   "cell_type": "code",
   "execution_count": null,
   "id": "376e7974-5c60-4070-b44e-10e38956e276",
   "metadata": {},
   "outputs": [],
   "source": []
  }
 ],
 "metadata": {
  "kernelspec": {
   "display_name": "Python [conda env:base] *",
   "language": "python",
   "name": "conda-base-py"
  },
  "language_info": {
   "codemirror_mode": {
    "name": "ipython",
    "version": 3
   },
   "file_extension": ".py",
   "mimetype": "text/x-python",
   "name": "python",
   "nbconvert_exporter": "python",
   "pygments_lexer": "ipython3",
   "version": "3.12.7"
  }
 },
 "nbformat": 4,
 "nbformat_minor": 5
}
